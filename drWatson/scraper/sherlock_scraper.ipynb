{
  "nbformat": 4,
  "nbformat_minor": 0,
  "metadata": {
    "colab": {
      "name": "sherlock_scraper.ipynb",
      "provenance": [],
      "collapsed_sections": []
    },
    "kernelspec": {
      "name": "python3",
      "display_name": "Python 3"
    }
  },
  "cells": [
    {
      "cell_type": "code",
      "metadata": {
        "id": "ZUG9calQRHJ9",
        "colab_type": "code",
        "colab": {}
      },
      "source": [
        "!apt-get update\n",
        "!apt install chromium-chromedriver\n",
        "!pip install selenium"
      ],
      "execution_count": 0,
      "outputs": []
    },
    {
      "cell_type": "code",
      "metadata": {
        "id": "aC9dGLUmnvQ3",
        "colab_type": "code",
        "colab": {}
      },
      "source": [
        "holmes_urls = {'A Study In Scarlet':'http://www.gutenberg.org/files/244/244-0.txt',\n",
        "               'The Sign of the Four':'http://www.gutenberg.org/files/2097/2097-0.txt',\n",
        "               'The Hound of the Baskervilles':'http://www.gutenberg.org/files/2852/2852-0.txt',\n",
        "               'The Valley of the Fear':'http://www.gutenberg.org/files/3289/3289-0.txt',\n",
        "               'Adventures of Sherlock Holmes':'http://www.gutenberg.org/files/48320/48320-0.txt',\n",
        "               'The Memoirs of Sherlock Holmes':'http://www.gutenberg.org/files/834/834-0.txt',\n",
        "               'The Return of Sherlock Holmes':'http://www.gutenberg.org/files/221/221-0.txt',\n",
        "               'His Last Bow':'http://www.gutenberg.org/files/2350/2350-0.txt'}\n",
        "\n",
        "holmes_bounds = {'A Study In Scarlet': (1747,241108),\n",
        "               'The Sign of the Four':(1048,237280),\n",
        "               'The Hound of the Baskervilles':(1549,354754),\n",
        "               'The Valley of the Fear':(689,312705),\n",
        "               'Adventures of Sherlock Holmes':(3100,566745),\n",
        "               'The Memoirs of Sherlock Holmes':(1038,582251),\n",
        "               'The Return of Sherlock Holmes':(1534,612257),\n",
        "               'His Last Bow':(1907,324433)}"
      ],
      "execution_count": 0,
      "outputs": []
    },
    {
      "cell_type": "code",
      "metadata": {
        "id": "v7wcDR0fNkeo",
        "colab_type": "code",
        "colab": {}
      },
      "source": [
        "from bs4 import BeautifulSoup\n",
        "from selenium import webdriver\n",
        "\n",
        "def retrieve_text(url):\n",
        "# https://www.freecodecamp.org/news/better-web-scraping-in-python-with-selenium-beautiful-soup-and-pandas-d6390592e251/\n",
        "# https://gist.github.com/korakot/5c8e21a5af63966d80a676af0ce15067\n",
        "\n",
        "  options = webdriver.ChromeOptions()\n",
        "  options.add_argument('--headless')\n",
        "  options.add_argument('--no-sandbox')\n",
        "  options.add_argument('--disable-dev-shm-usage')\n",
        "\n",
        "  driver = webdriver.Chrome('chromedriver',options=options)\n",
        "  driver.get(url)\n",
        "\n",
        "  soup = BeautifulSoup(driver.page_source, 'html.parser')\n",
        "\n",
        "  try:\n",
        "    text = soup.pre.string\n",
        "  except:\n",
        "    text = 'Messed up, bud'\n",
        "  \n",
        "  return text"
      ],
      "execution_count": 0,
      "outputs": []
    },
    {
      "cell_type": "code",
      "metadata": {
        "id": "4aApw8djs5A1",
        "colab_type": "code",
        "colab": {}
      },
      "source": [
        "def load_corpus(url_dict):\n",
        "  texts = []\n",
        "\n",
        "  for title, url in url_dict.items():\n",
        "    str_text = retrieve_text(url)\n",
        "    start, end = holmes_bounds[title]\n",
        "    texts = str_text[start:end].split('\\n')\n",
        "    texts.extend(texts)\n",
        "    print(title, 'processed')\n",
        "  print('\\n'+'Corpus processed')\n",
        "  \n",
        "  return texts"
      ],
      "execution_count": 0,
      "outputs": []
    },
    {
      "cell_type": "code",
      "metadata": {
        "id": "cM0x2yANT6wE",
        "colab_type": "code",
        "colab": {}
      },
      "source": [
        "from google.colab import drive\n",
        "drive.mount('/content/drive', force_remount=True)\n",
        "\n",
        "def corpus2file():\n",
        "  print('\\n')\n",
        "  texts = load_corpus(holmes_urls)\n",
        "  sherlock_fp = '/content/drive/My Drive/datasets/sherlock.txt'\n",
        "  with open(sherlock_fp, mode='w') as txt_file:\n",
        "    text = ' '.join(texts)\n",
        "    txt_file.write(text)\n",
        "  print('\\n'+'')\n",
        "\n",
        "corpus2file()"
      ],
      "execution_count": 0,
      "outputs": []
    }
  ]
}